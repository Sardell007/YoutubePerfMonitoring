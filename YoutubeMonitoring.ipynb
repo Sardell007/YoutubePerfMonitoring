{
 "cells": [
  {
   "cell_type": "code",
   "execution_count": null,
   "id": "81e22620-aefe-4f12-8714-611ebd76a6fc",
   "metadata": {},
   "outputs": [],
   "source": [
    "from selenium import webdriver\n",
    "from selenium.webdriver.common.keys import Keys\n",
    "from selenium.webdriver.common.by import By\n",
    "from selenium.webdriver.support.ui import WebDriverWait\n",
    "from selenium.webdriver.support import expected_conditions as EC\n",
    "# from selenium.webdriver.common.desired_capabilities import DesiredCapabilities \n",
    "from selenium.webdriver.chrome.options import Options\n",
    "from selenium.webdriver import ActionChains\n",
    "from seleniumwire import webdriver\n",
    "import time\n",
    "\n",
    "from scapy.all import *\n",
    "\n",
    "from scapy.interfaces import IFACES\n",
    "import socket\n",
    "import re\n",
    "import numpy as np\n",
    "import json"
   ]
  },
  {
   "cell_type": "code",
   "execution_count": null,
   "id": "17a7319c-6902-46c1-913e-8359179ad61f",
   "metadata": {},
   "outputs": [],
   "source": [
    "def packet_filter(packet):\n",
    "    if packet.haslayer(IP):\n",
    "        if packet.haslayer(TCP):\n",
    "            if packet.haslayer(Raw):\n",
    "                raw_data = packet[Raw].load.decode(errors=\"ignore\")\n",
    "                if \"videoplayback\" in raw_data or \"youtube.com\" in raw_data:\n",
    "                    return True\n",
    "    return False\n",
    "\n",
    "def save_dash_packet(packet):\n",
    "    if packet_filter(packet):\n",
    "        print(f\"DASH Packet: {packet.summary()}\")"
   ]
  },
  {
   "cell_type": "code",
   "execution_count": null,
   "id": "a903b50c-0f55-45e3-96d5-53cf0c3f4387",
   "metadata": {},
   "outputs": [],
   "source": [
    "youtubeURL = \"https://www.youtube.com/watch?v=YSQhtlyfPtU\"\n",
    "vid_duration = 10"
   ]
  },
  {
   "cell_type": "code",
   "execution_count": null,
   "id": "615c876d-009a-4cd3-beec-19a75fd495ae",
   "metadata": {},
   "outputs": [],
   "source": [
    "def startPlayer(url, timeout):\n",
    "    # desired_capabilities = DesiredCapabilities.CHROME\n",
    "    # desired_capabilities[\"goog:loggingPrefs\"] = {\"performance\": \"ALL\"}\n",
    "    \n",
    "    options = Options()\n",
    "    options.set_capability(\"goog:loggingPrefs\", {\"performance\": \"ALL\"})\n",
    "    url = youtubeURL\n",
    "    timeout = vid_duration\n",
    "    driver = webdriver.Chrome(options=options)\n",
    "    action = ActionChains(driver)\n",
    "    start_time = time.time()\n",
    "    driver.get(url)\n",
    "    end_time = time.time()\n",
    "    print(\"Start Up Delay:\", end_time - start_time)\n",
    "\n",
    "    try:\n",
    "        videoPlay = WebDriverWait(driver, 20).until(EC.element_to_be_clickable((By.XPATH, '//*[@class=\"ytp-play-button ytp-button\"]')))\n",
    "        if videoPlay.get_attribute(\"data-title-no-tooltip\") == 'Play':\n",
    "            videoPlay.click();\n",
    "    except:\n",
    "        print(\"Error from vidPlay\")\n",
    "\n",
    "    # driver.execute_script('document.getElementsByClassName(\"ytp-contextmenu\")[0].style.display = \"block\";');\n",
    "    videoPlay = driver.find_element(\"xpath\", '//*[@class=\"video-stream html5-main-video\"]')\n",
    "    action.context_click(videoPlay).perform()\n",
    "    driver.execute_script('document.getElementsByClassName(\"ytp-menuitem\")[6].click();');\n",
    "    driver.execute_script('document.getElementsByClassName(\"ytp-contextmenu\")[0].style.display = \"none\";');\n",
    "    statsElem = driver.find_element(\"xpath\", '//*[@class=\"html5-video-info-panel-content ytp-sfn-content\"]')\n",
    "\n",
    "\n",
    "    all_packets = []\n",
    "    all_resolutions = []\n",
    "    all_speeds = []\n",
    "    all_har = []\n",
    "    all_buffer_lengths = []\n",
    "\n",
    "    print(\"Staring Sniff\")\n",
    "    start_time = time.time()\n",
    "    while time.time() - start_time < timeout:\n",
    "        packets = sniff(prn=save_dash_packet, timeout=1)\n",
    "        har_logs = driver.get_log(\"performance\") \n",
    "        # har_logs = driver.har\n",
    "        all_har.append(har_logs)\n",
    "        all_packets.append(packets)\n",
    "        statStr = statsElem.text\n",
    "        res = statStr.split(\"Optimal Res \")[-1].split(' / ')[0]\n",
    "        speed = statStr.split(\"Connection Speed \")[-1].split('\\n')[0]\n",
    "        buffer_length = driver.execute_script(\"return document.querySelector('video').buffered.length > 0 ? \"\n",
    "                        \"document.querySelector('video').buffered.end(0) - document.querySelector('video').currentTime : 0;\")\n",
    "        all_resolutions.append(res)\n",
    "        all_speeds.append(speed)\n",
    "        all_buffer_lengths.append(buffer_length)\n",
    "    print(\"End Sniff\")\n",
    "\n",
    "\n",
    "    driver.close()\n",
    "    return all_har, all_packets, all_resolutions, all_speeds, all_buffer_lengths"
   ]
  },
  {
   "cell_type": "code",
   "execution_count": null,
   "id": "685a89ce-ac2e-4bde-b309-b3ebf8ded34d",
   "metadata": {},
   "outputs": [],
   "source": [
    "har_data, packets, resolutions, network_speeds, buffer_lengths = startPlayer(youtubeURL, vid_duration)"
   ]
  }
 ],
 "metadata": {
  "kernelspec": {
   "display_name": "Python 3 (ipykernel)",
   "language": "python",
   "name": "python3"
  },
  "language_info": {
   "codemirror_mode": {
    "name": "ipython",
    "version": 3
   },
   "file_extension": ".py",
   "mimetype": "text/x-python",
   "name": "python",
   "nbconvert_exporter": "python",
   "pygments_lexer": "ipython3",
   "version": "3.9.7"
  }
 },
 "nbformat": 4,
 "nbformat_minor": 5
}
